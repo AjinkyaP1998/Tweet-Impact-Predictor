{
 "cells": [
  {
   "cell_type": "code",
   "execution_count": 1,
   "id": "3b43d805-39b2-46db-a330-8f65fd48e36b",
   "metadata": {},
   "outputs": [],
   "source": [
    "import pandas as pd\n",
    "import sklearn\n",
    "from sklearn.model_selection import train_test_split\n",
    "from sklearn.linear_model import LinearRegression\n",
    "from sklearn.metrics import mean_squared_error"
   ]
  },
  {
   "cell_type": "code",
   "execution_count": 2,
   "id": "1cde9d5c-db1a-4fbf-9f89-e7e5987559b6",
   "metadata": {},
   "outputs": [],
   "source": [
    "processedData = pd.read_csv(\"F:\\Circus Social ML Task\\Data\\processedData.csv\", index_col= ['Published DateTime'])"
   ]
  },
  {
   "cell_type": "code",
   "execution_count": 3,
   "id": "cc785f89-6e83-4fe0-a318-6822b72b588a",
   "metadata": {},
   "outputs": [
    {
     "data": {
      "text/html": [
       "<div>\n",
       "<style scoped>\n",
       "    .dataframe tbody tr th:only-of-type {\n",
       "        vertical-align: middle;\n",
       "    }\n",
       "\n",
       "    .dataframe tbody tr th {\n",
       "        vertical-align: top;\n",
       "    }\n",
       "\n",
       "    .dataframe thead th {\n",
       "        text-align: right;\n",
       "    }\n",
       "</style>\n",
       "<table border=\"1\" class=\"dataframe\">\n",
       "  <thead>\n",
       "    <tr style=\"text-align: right;\">\n",
       "      <th></th>\n",
       "      <th>Line Count</th>\n",
       "      <th>Word Count</th>\n",
       "      <th>Language</th>\n",
       "      <th>Sentiment score</th>\n",
       "      <th>Post Length</th>\n",
       "      <th>Hashtag count</th>\n",
       "      <th>Content URL count</th>\n",
       "      <th>Tweet count</th>\n",
       "      <th>Followers count</th>\n",
       "      <th>Listed Count</th>\n",
       "      <th>Mentions Count</th>\n",
       "      <th>Post author verified</th>\n",
       "      <th>Likes</th>\n",
       "      <th>Shares</th>\n",
       "      <th>Comments</th>\n",
       "      <th>Hour</th>\n",
       "      <th>Media Type 2</th>\n",
       "      <th>Media Type 1</th>\n",
       "      <th>Impact</th>\n",
       "    </tr>\n",
       "    <tr>\n",
       "      <th>Published DateTime</th>\n",
       "      <th></th>\n",
       "      <th></th>\n",
       "      <th></th>\n",
       "      <th></th>\n",
       "      <th></th>\n",
       "      <th></th>\n",
       "      <th></th>\n",
       "      <th></th>\n",
       "      <th></th>\n",
       "      <th></th>\n",
       "      <th></th>\n",
       "      <th></th>\n",
       "      <th></th>\n",
       "      <th></th>\n",
       "      <th></th>\n",
       "      <th></th>\n",
       "      <th></th>\n",
       "      <th></th>\n",
       "      <th></th>\n",
       "    </tr>\n",
       "  </thead>\n",
       "  <tbody>\n",
       "    <tr>\n",
       "      <th>2020-03-31 18:37:46+00:00</th>\n",
       "      <td>1</td>\n",
       "      <td>12</td>\n",
       "      <td>10</td>\n",
       "      <td>0.00</td>\n",
       "      <td>127.0</td>\n",
       "      <td>0.0</td>\n",
       "      <td>1.0</td>\n",
       "      <td>3674.0</td>\n",
       "      <td>154.0</td>\n",
       "      <td>0</td>\n",
       "      <td>0.0</td>\n",
       "      <td>0.0</td>\n",
       "      <td>0.0</td>\n",
       "      <td>0.0</td>\n",
       "      <td>0.0</td>\n",
       "      <td>18</td>\n",
       "      <td>0</td>\n",
       "      <td>0</td>\n",
       "      <td>0.0</td>\n",
       "    </tr>\n",
       "    <tr>\n",
       "      <th>2020-03-31 18:45:47+00:00</th>\n",
       "      <td>5</td>\n",
       "      <td>44</td>\n",
       "      <td>10</td>\n",
       "      <td>0.00</td>\n",
       "      <td>303.0</td>\n",
       "      <td>1.0</td>\n",
       "      <td>1.0</td>\n",
       "      <td>386323.0</td>\n",
       "      <td>5779057.0</td>\n",
       "      <td>26399</td>\n",
       "      <td>0.0</td>\n",
       "      <td>1.0</td>\n",
       "      <td>89.0</td>\n",
       "      <td>57.0</td>\n",
       "      <td>0.0</td>\n",
       "      <td>18</td>\n",
       "      <td>0</td>\n",
       "      <td>0</td>\n",
       "      <td>1460.0</td>\n",
       "    </tr>\n",
       "    <tr>\n",
       "      <th>2020-03-31 18:47:30+00:00</th>\n",
       "      <td>7</td>\n",
       "      <td>21</td>\n",
       "      <td>10</td>\n",
       "      <td>0.00</td>\n",
       "      <td>211.0</td>\n",
       "      <td>3.0</td>\n",
       "      <td>0.0</td>\n",
       "      <td>9985.0</td>\n",
       "      <td>341.0</td>\n",
       "      <td>0</td>\n",
       "      <td>1.0</td>\n",
       "      <td>0.0</td>\n",
       "      <td>42.0</td>\n",
       "      <td>60.0</td>\n",
       "      <td>0.0</td>\n",
       "      <td>18</td>\n",
       "      <td>0</td>\n",
       "      <td>0</td>\n",
       "      <td>1020.0</td>\n",
       "    </tr>\n",
       "    <tr>\n",
       "      <th>2020-03-31 19:11:04+00:00</th>\n",
       "      <td>1</td>\n",
       "      <td>21</td>\n",
       "      <td>10</td>\n",
       "      <td>-10.59</td>\n",
       "      <td>149.0</td>\n",
       "      <td>0.0</td>\n",
       "      <td>0.0</td>\n",
       "      <td>150775.0</td>\n",
       "      <td>2542491.0</td>\n",
       "      <td>10522</td>\n",
       "      <td>0.0</td>\n",
       "      <td>1.0</td>\n",
       "      <td>9242.0</td>\n",
       "      <td>6455.0</td>\n",
       "      <td>0.0</td>\n",
       "      <td>19</td>\n",
       "      <td>0</td>\n",
       "      <td>0</td>\n",
       "      <td>156970.0</td>\n",
       "    </tr>\n",
       "    <tr>\n",
       "      <th>2020-03-31 19:34:25+00:00</th>\n",
       "      <td>1</td>\n",
       "      <td>43</td>\n",
       "      <td>10</td>\n",
       "      <td>0.00</td>\n",
       "      <td>260.0</td>\n",
       "      <td>1.0</td>\n",
       "      <td>0.0</td>\n",
       "      <td>940.0</td>\n",
       "      <td>13985263.0</td>\n",
       "      <td>9235</td>\n",
       "      <td>1.0</td>\n",
       "      <td>1.0</td>\n",
       "      <td>53823.0</td>\n",
       "      <td>9080.0</td>\n",
       "      <td>8.0</td>\n",
       "      <td>19</td>\n",
       "      <td>0</td>\n",
       "      <td>1</td>\n",
       "      <td>629110.0</td>\n",
       "    </tr>\n",
       "    <tr>\n",
       "      <th>...</th>\n",
       "      <td>...</td>\n",
       "      <td>...</td>\n",
       "      <td>...</td>\n",
       "      <td>...</td>\n",
       "      <td>...</td>\n",
       "      <td>...</td>\n",
       "      <td>...</td>\n",
       "      <td>...</td>\n",
       "      <td>...</td>\n",
       "      <td>...</td>\n",
       "      <td>...</td>\n",
       "      <td>...</td>\n",
       "      <td>...</td>\n",
       "      <td>...</td>\n",
       "      <td>...</td>\n",
       "      <td>...</td>\n",
       "      <td>...</td>\n",
       "      <td>...</td>\n",
       "      <td>...</td>\n",
       "    </tr>\n",
       "    <tr>\n",
       "      <th>2021-05-30 12:45:44+00:00</th>\n",
       "      <td>8</td>\n",
       "      <td>48</td>\n",
       "      <td>20</td>\n",
       "      <td>11.62</td>\n",
       "      <td>301.0</td>\n",
       "      <td>0.0</td>\n",
       "      <td>0.0</td>\n",
       "      <td>30678.0</td>\n",
       "      <td>14481.0</td>\n",
       "      <td>10</td>\n",
       "      <td>0.0</td>\n",
       "      <td>0.0</td>\n",
       "      <td>5812.0</td>\n",
       "      <td>6312.0</td>\n",
       "      <td>3.0</td>\n",
       "      <td>12</td>\n",
       "      <td>0</td>\n",
       "      <td>1</td>\n",
       "      <td>121270.0</td>\n",
       "    </tr>\n",
       "    <tr>\n",
       "      <th>2021-05-30 13:30:00+00:00</th>\n",
       "      <td>1</td>\n",
       "      <td>10</td>\n",
       "      <td>10</td>\n",
       "      <td>0.00</td>\n",
       "      <td>64.0</td>\n",
       "      <td>0.0</td>\n",
       "      <td>0.0</td>\n",
       "      <td>122072.0</td>\n",
       "      <td>173070.0</td>\n",
       "      <td>236</td>\n",
       "      <td>0.0</td>\n",
       "      <td>1.0</td>\n",
       "      <td>10351.0</td>\n",
       "      <td>818.0</td>\n",
       "      <td>0.0</td>\n",
       "      <td>13</td>\n",
       "      <td>0</td>\n",
       "      <td>1</td>\n",
       "      <td>111690.0</td>\n",
       "    </tr>\n",
       "    <tr>\n",
       "      <th>2021-05-30 14:27:02+00:00</th>\n",
       "      <td>1</td>\n",
       "      <td>10</td>\n",
       "      <td>10</td>\n",
       "      <td>0.00</td>\n",
       "      <td>76.0</td>\n",
       "      <td>1.0</td>\n",
       "      <td>1.0</td>\n",
       "      <td>1895.0</td>\n",
       "      <td>1119518.0</td>\n",
       "      <td>7026</td>\n",
       "      <td>0.0</td>\n",
       "      <td>1.0</td>\n",
       "      <td>11447.0</td>\n",
       "      <td>1373.0</td>\n",
       "      <td>7.0</td>\n",
       "      <td>14</td>\n",
       "      <td>0</td>\n",
       "      <td>1</td>\n",
       "      <td>128270.0</td>\n",
       "    </tr>\n",
       "    <tr>\n",
       "      <th>2021-05-30 15:57:39+00:00</th>\n",
       "      <td>6</td>\n",
       "      <td>21</td>\n",
       "      <td>10</td>\n",
       "      <td>0.00</td>\n",
       "      <td>206.0</td>\n",
       "      <td>5.0</td>\n",
       "      <td>0.0</td>\n",
       "      <td>140621.0</td>\n",
       "      <td>612138.0</td>\n",
       "      <td>523</td>\n",
       "      <td>0.0</td>\n",
       "      <td>1.0</td>\n",
       "      <td>8454.0</td>\n",
       "      <td>3857.0</td>\n",
       "      <td>1.0</td>\n",
       "      <td>15</td>\n",
       "      <td>0</td>\n",
       "      <td>0</td>\n",
       "      <td>123120.0</td>\n",
       "    </tr>\n",
       "    <tr>\n",
       "      <th>2021-05-30 17:02:39+00:00</th>\n",
       "      <td>1</td>\n",
       "      <td>10</td>\n",
       "      <td>4</td>\n",
       "      <td>0.00</td>\n",
       "      <td>43.0</td>\n",
       "      <td>1.0</td>\n",
       "      <td>0.0</td>\n",
       "      <td>12000.0</td>\n",
       "      <td>1052288.0</td>\n",
       "      <td>199</td>\n",
       "      <td>0.0</td>\n",
       "      <td>1.0</td>\n",
       "      <td>17647.0</td>\n",
       "      <td>1531.0</td>\n",
       "      <td>3.0</td>\n",
       "      <td>17</td>\n",
       "      <td>0</td>\n",
       "      <td>1</td>\n",
       "      <td>191810.0</td>\n",
       "    </tr>\n",
       "  </tbody>\n",
       "</table>\n",
       "<p>50000 rows × 19 columns</p>\n",
       "</div>"
      ],
      "text/plain": [
       "                           Line Count  Word Count  Language  Sentiment score  \\\n",
       "Published DateTime                                                             \n",
       "2020-03-31 18:37:46+00:00           1          12        10             0.00   \n",
       "2020-03-31 18:45:47+00:00           5          44        10             0.00   \n",
       "2020-03-31 18:47:30+00:00           7          21        10             0.00   \n",
       "2020-03-31 19:11:04+00:00           1          21        10           -10.59   \n",
       "2020-03-31 19:34:25+00:00           1          43        10             0.00   \n",
       "...                               ...         ...       ...              ...   \n",
       "2021-05-30 12:45:44+00:00           8          48        20            11.62   \n",
       "2021-05-30 13:30:00+00:00           1          10        10             0.00   \n",
       "2021-05-30 14:27:02+00:00           1          10        10             0.00   \n",
       "2021-05-30 15:57:39+00:00           6          21        10             0.00   \n",
       "2021-05-30 17:02:39+00:00           1          10         4             0.00   \n",
       "\n",
       "                           Post Length  Hashtag count  Content URL count  \\\n",
       "Published DateTime                                                         \n",
       "2020-03-31 18:37:46+00:00        127.0            0.0                1.0   \n",
       "2020-03-31 18:45:47+00:00        303.0            1.0                1.0   \n",
       "2020-03-31 18:47:30+00:00        211.0            3.0                0.0   \n",
       "2020-03-31 19:11:04+00:00        149.0            0.0                0.0   \n",
       "2020-03-31 19:34:25+00:00        260.0            1.0                0.0   \n",
       "...                                ...            ...                ...   \n",
       "2021-05-30 12:45:44+00:00        301.0            0.0                0.0   \n",
       "2021-05-30 13:30:00+00:00         64.0            0.0                0.0   \n",
       "2021-05-30 14:27:02+00:00         76.0            1.0                1.0   \n",
       "2021-05-30 15:57:39+00:00        206.0            5.0                0.0   \n",
       "2021-05-30 17:02:39+00:00         43.0            1.0                0.0   \n",
       "\n",
       "                           Tweet count  Followers count  Listed Count  \\\n",
       "Published DateTime                                                      \n",
       "2020-03-31 18:37:46+00:00       3674.0            154.0             0   \n",
       "2020-03-31 18:45:47+00:00     386323.0        5779057.0         26399   \n",
       "2020-03-31 18:47:30+00:00       9985.0            341.0             0   \n",
       "2020-03-31 19:11:04+00:00     150775.0        2542491.0         10522   \n",
       "2020-03-31 19:34:25+00:00        940.0       13985263.0          9235   \n",
       "...                                ...              ...           ...   \n",
       "2021-05-30 12:45:44+00:00      30678.0          14481.0            10   \n",
       "2021-05-30 13:30:00+00:00     122072.0         173070.0           236   \n",
       "2021-05-30 14:27:02+00:00       1895.0        1119518.0          7026   \n",
       "2021-05-30 15:57:39+00:00     140621.0         612138.0           523   \n",
       "2021-05-30 17:02:39+00:00      12000.0        1052288.0           199   \n",
       "\n",
       "                           Mentions Count  Post author verified    Likes  \\\n",
       "Published DateTime                                                         \n",
       "2020-03-31 18:37:46+00:00             0.0                   0.0      0.0   \n",
       "2020-03-31 18:45:47+00:00             0.0                   1.0     89.0   \n",
       "2020-03-31 18:47:30+00:00             1.0                   0.0     42.0   \n",
       "2020-03-31 19:11:04+00:00             0.0                   1.0   9242.0   \n",
       "2020-03-31 19:34:25+00:00             1.0                   1.0  53823.0   \n",
       "...                                   ...                   ...      ...   \n",
       "2021-05-30 12:45:44+00:00             0.0                   0.0   5812.0   \n",
       "2021-05-30 13:30:00+00:00             0.0                   1.0  10351.0   \n",
       "2021-05-30 14:27:02+00:00             0.0                   1.0  11447.0   \n",
       "2021-05-30 15:57:39+00:00             0.0                   1.0   8454.0   \n",
       "2021-05-30 17:02:39+00:00             0.0                   1.0  17647.0   \n",
       "\n",
       "                           Shares  Comments  Hour  Media Type 2  Media Type 1  \\\n",
       "Published DateTime                                                              \n",
       "2020-03-31 18:37:46+00:00     0.0       0.0    18             0             0   \n",
       "2020-03-31 18:45:47+00:00    57.0       0.0    18             0             0   \n",
       "2020-03-31 18:47:30+00:00    60.0       0.0    18             0             0   \n",
       "2020-03-31 19:11:04+00:00  6455.0       0.0    19             0             0   \n",
       "2020-03-31 19:34:25+00:00  9080.0       8.0    19             0             1   \n",
       "...                           ...       ...   ...           ...           ...   \n",
       "2021-05-30 12:45:44+00:00  6312.0       3.0    12             0             1   \n",
       "2021-05-30 13:30:00+00:00   818.0       0.0    13             0             1   \n",
       "2021-05-30 14:27:02+00:00  1373.0       7.0    14             0             1   \n",
       "2021-05-30 15:57:39+00:00  3857.0       1.0    15             0             0   \n",
       "2021-05-30 17:02:39+00:00  1531.0       3.0    17             0             1   \n",
       "\n",
       "                             Impact  \n",
       "Published DateTime                   \n",
       "2020-03-31 18:37:46+00:00       0.0  \n",
       "2020-03-31 18:45:47+00:00    1460.0  \n",
       "2020-03-31 18:47:30+00:00    1020.0  \n",
       "2020-03-31 19:11:04+00:00  156970.0  \n",
       "2020-03-31 19:34:25+00:00  629110.0  \n",
       "...                             ...  \n",
       "2021-05-30 12:45:44+00:00  121270.0  \n",
       "2021-05-30 13:30:00+00:00  111690.0  \n",
       "2021-05-30 14:27:02+00:00  128270.0  \n",
       "2021-05-30 15:57:39+00:00  123120.0  \n",
       "2021-05-30 17:02:39+00:00  191810.0  \n",
       "\n",
       "[50000 rows x 19 columns]"
      ]
     },
     "execution_count": 3,
     "metadata": {},
     "output_type": "execute_result"
    }
   ],
   "source": [
    "processedData"
   ]
  },
  {
   "cell_type": "code",
   "execution_count": 4,
   "id": "3ce6d0d8-7e4d-4beb-b7a4-e899736a1d0f",
   "metadata": {},
   "outputs": [],
   "source": [
    "# Train-test split\n",
    "\n",
    "X = processedData.iloc[:,:-1]\n",
    "y = processedData.iloc[:,-1:]\n",
    "\n",
    "X_train, X_test, y_train, y_test = train_test_split(X, y, test_size=0.20, random_state=42)"
   ]
  },
  {
   "cell_type": "markdown",
   "id": "31a12b6a-468b-4400-a58b-3a9556c0c4e8",
   "metadata": {},
   "source": [
    "# Linear Regression Model"
   ]
  },
  {
   "cell_type": "code",
   "execution_count": 5,
   "id": "8058e0db-e8d3-44dd-a378-e465e212956b",
   "metadata": {},
   "outputs": [
    {
     "name": "stdout",
     "output_type": "stream",
     "text": [
      "Wall time: 76.8 ms\n"
     ]
    },
    {
     "data": {
      "text/plain": [
       "LinearRegression()"
      ]
     },
     "execution_count": 5,
     "metadata": {},
     "output_type": "execute_result"
    }
   ],
   "source": [
    "%%time\n",
    "\n",
    "model = LinearRegression()\n",
    "\n",
    "model.fit(X_train,y_train)"
   ]
  },
  {
   "cell_type": "code",
   "execution_count": 6,
   "id": "a95e7100-fe64-4ab0-8578-20f03cdbc9d6",
   "metadata": {},
   "outputs": [],
   "source": [
    "y_pred = model.predict(X_test)"
   ]
  },
  {
   "cell_type": "code",
   "execution_count": 7,
   "id": "4e3addbb-3a58-4e86-9014-69f161867b20",
   "metadata": {},
   "outputs": [
    {
     "data": {
      "text/plain": [
       "11.532345307770889"
      ]
     },
     "execution_count": 7,
     "metadata": {},
     "output_type": "execute_result"
    }
   ],
   "source": [
    "mean_squared_error(y_test, y_pred, squared = False)"
   ]
  },
  {
   "cell_type": "code",
   "execution_count": 8,
   "id": "3113c93c-eeda-49f4-9a0c-394c680e60f8",
   "metadata": {},
   "outputs": [],
   "source": [
    "results = pd.DataFrame({'y_true':y_test['Impact'].tolist(), 'y_pred': y_pred.flatten()})"
   ]
  },
  {
   "cell_type": "code",
   "execution_count": 9,
   "id": "8e89791a-a472-4a0d-8ccb-461597aaf98f",
   "metadata": {},
   "outputs": [
    {
     "data": {
      "text/plain": [
       "<AxesSubplot:>"
      ]
     },
     "execution_count": 9,
     "metadata": {},
     "output_type": "execute_result"
    },
    {
     "data": {
      "image/png": "[encoded data removed]",
      "text/plain": [
       "<Figure size 1440x576 with 1 Axes>"
      ]
     },
     "metadata": {
      "needs_background": "light"
     },
     "output_type": "display_data"
    }
   ],
   "source": [
    "results.plot(figsize = (20,8))"
   ]
  },
  {
   "cell_type": "code",
   "execution_count": null,
   "id": "e097f84e-b1e9-4676-b99c-70a19d9a1d54",
   "metadata": {},
   "outputs": [],
   "source": []
  },
  {
   "cell_type": "markdown",
   "id": "64c35df6-ea68-468e-b5e0-c46c176436fd",
   "metadata": {},
   "source": [
    "# Linear Regression with 3 main identifies features = Likes, Shares and CommentsX_train"
   ]
  },
  {
   "cell_type": "code",
   "execution_count": 10,
   "id": "a638d97c-b940-4769-8db5-124d1436440f",
   "metadata": {},
   "outputs": [
    {
     "data": {
      "text/plain": [
       "LinearRegression()"
      ]
     },
     "execution_count": 10,
     "metadata": {},
     "output_type": "execute_result"
    }
   ],
   "source": [
    "model2 = LinearRegression()\n",
    "\n",
    "model2.fit(X_train[['Likes','Shares','Comments']],y_train)"
   ]
  },
  {
   "cell_type": "code",
   "execution_count": 11,
   "id": "709d6da8-5905-45e3-93ec-758093190225",
   "metadata": {},
   "outputs": [],
   "source": [
    "y_pred = model2.predict(X_test[['Likes','Shares','Comments']])"
   ]
  },
  {
   "cell_type": "code",
   "execution_count": 12,
   "id": "4ee51f00-975c-4b0b-833b-d2209f0ca8c0",
   "metadata": {},
   "outputs": [
    {
     "data": {
      "text/plain": [
       "11.535260964931343"
      ]
     },
     "execution_count": 12,
     "metadata": {},
     "output_type": "execute_result"
    }
   ],
   "source": [
    "mean_squared_error(y_test, y_pred, squared = False)"
   ]
  },
  {
   "cell_type": "code",
   "execution_count": 13,
   "id": "de479c8d-d63f-44b2-be0e-1a74c37362bf",
   "metadata": {},
   "outputs": [],
   "source": [
    "results = pd.DataFrame({'y_true':y_test['Impact'].tolist(), 'y_pred': y_pred.flatten()})"
   ]
  },
  {
   "cell_type": "code",
   "execution_count": 14,
   "id": "c2023f03-863f-463b-a636-9448ce069d00",
   "metadata": {},
   "outputs": [
    {
     "data": {
      "text/plain": [
       "<AxesSubplot:>"
      ]
     },
     "execution_count": 14,
     "metadata": {},
     "output_type": "execute_result"
    },
    {
     "data": {
      "image/png": "[encoded data removed]",
      "text/plain": [
       "<Figure size 1440x576 with 1 Axes>"
      ]
     },
     "metadata": {
      "needs_background": "light"
     },
     "output_type": "display_data"
    }
   ],
   "source": [
    "results.plot(figsize = (20,8))"
   ]
  },
  {
   "cell_type": "code",
   "execution_count": null,
   "id": "d6d06eea-860a-4000-be5c-8c1296497db5",
   "metadata": {},
   "outputs": [],
   "source": []
  },
  {
   "cell_type": "code",
   "execution_count": null,
   "id": "65b1cfd3-fd5d-4736-8874-e7a4eb63edc6",
   "metadata": {},
   "outputs": [],
   "source": []
  }
 ],
 "metadata": {
  "kernelspec": {
   "display_name": "Python 3",
   "language": "python",
   "name": "python3"
  },
  "language_info": {
   "codemirror_mode": {
    "name": "ipython",
    "version": 3
   },
   "file_extension": ".py",
   "mimetype": "text/x-python",
   "name": "python",
   "nbconvert_exporter": "python",
   "pygments_lexer": "ipython3",
   "version": "3.8.8"
  }
 },
 "nbformat": 4,
 "nbformat_minor": 5
}
